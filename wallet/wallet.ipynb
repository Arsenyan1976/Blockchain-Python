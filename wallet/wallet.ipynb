{
 "cells": [
  {
   "cell_type": "code",
   "execution_count": 1,
   "metadata": {},
   "outputs": [],
   "source": [
    "import subprocess\n",
    "import json\n",
    "import os\n",
    "from dotenv import load_dotenv"
   ]
  },
  {
   "cell_type": "code",
   "execution_count": 2,
   "metadata": {},
   "outputs": [
    {
     "data": {
      "text/plain": [
       "True"
      ]
     },
     "execution_count": 2,
     "metadata": {},
     "output_type": "execute_result"
    }
   ],
   "source": [
    "#load_dotenv()"
   ]
  },
  {
   "cell_type": "code",
   "execution_count": null,
   "metadata": {},
   "outputs": [],
   "source": [
    "#(os.getenv(\"mnemonic\"))"
   ]
  },
  {
   "cell_type": "code",
   "execution_count": 16,
   "metadata": {},
   "outputs": [],
   "source": [
    "derive_wallets = r'php C:\\Users\\armen\\derive -g --mnemonic=\"blossom foam explain join tree slight host client tumble robust drink smart\" --numderive=8 --cols=path,address,privkey,pubkey --format=json'"
   ]
  },
  {
   "cell_type": "code",
   "execution_count": null,
   "metadata": {},
   "outputs": [],
   "source": []
  },
  {
   "cell_type": "code",
   "execution_count": 17,
   "metadata": {},
   "outputs": [],
   "source": [
    "p = subprocess.Popen(derive_wallets, stdout = subprocess.PIPE, shell=True)"
   ]
  },
  {
   "cell_type": "code",
   "execution_count": 18,
   "metadata": {},
   "outputs": [],
   "source": [
    "(output, err) = p.communicate()"
   ]
  },
  {
   "cell_type": "code",
   "execution_count": 19,
   "metadata": {},
   "outputs": [],
   "source": [
    "p_staus = p.wait()"
   ]
  },
  {
   "cell_type": "code",
   "execution_count": 20,
   "metadata": {},
   "outputs": [],
   "source": [
    "#print(output)"
   ]
  },
  {
   "cell_type": "code",
   "execution_count": 21,
   "metadata": {},
   "outputs": [
    {
     "name": "stdout",
     "output_type": "stream",
     "text": [
      "[{'path': \"m/44'/0'/0'/0/0\", 'address': '1C3MzgG6hJBVDE8g4nk49Kck1FYfpnb91x', 'privkey': 'L2R19n2cEYRwWtVXq7CFBE8CvLBKaRiyNXaUJ43SpjKm87rM4rFZ', 'pubkey': '03d1b36125610547efa829dbf6793c9d43bf38acccb8e7a8fb06fdcb51a5ddd588'}, {'path': \"m/44'/0'/0'/0/1\", 'address': '17aWvyCm92JABou1ucFMPwehStNN5GqwR3', 'privkey': 'Kyk4NkpnZMEen6T9XwRHLwymaAys2HkYvuPh8FDqWmcE6G9GqTkw', 'pubkey': '02562ef643101504a7bf633bca888d2ace1f9c3eeef0221eae5e8f1054e4866962'}, {'path': \"m/44'/0'/0'/0/2\", 'address': '1NET4jwxRMDfr3Kqw3MMpw86UHAmvDvUXF', 'privkey': 'KwuQqAtLmZ8bvETNpwhemi7qzJT32cf46TGZj4nDWskNJ56VQcix', 'pubkey': '02f778f901814c1f443733b1e79d7ecb9587cebadb7e5a431e0d1debf27c394643'}, {'path': \"m/44'/0'/0'/0/3\", 'address': '1PXdTHbhtMZrPZTV7xWo8wszh8tSwKfTmb', 'privkey': 'KyHXzxwC8za1dGxvc1nsPMdG4KAQKR8RuPAa5veXMtky4L9eWJSj', 'pubkey': '02f1f69732fd335b8fb739715ab1542d59d8a98fae5ed2941c86b35bfbccc89887'}, {'path': \"m/44'/0'/0'/0/4\", 'address': '1KPAZuH78jfDtUA56NkBvYfXntXx1w8X3n', 'privkey': 'KyEuqTuMtrAQfHtf1HETyAzcuKLR9BYVX3SuwkMEs2Mo1DjxR4gy', 'pubkey': '0273552f921578ccf54bd9b4282d823c9ad1a645593d065167b275a3c06551c95f'}, {'path': \"m/44'/0'/0'/0/5\", 'address': '19FHgynq5vZNpUWuq5e3zcHYnU95NUSF2V', 'privkey': 'KzpDAjXBKdd1DHeJzUVpeS6Lwkr73vmF7FebrShdMyz3cXQGXAJG', 'pubkey': '039ff640e34448fa5dd42af917956e143c9ab0ea9e980c8fee4368d235d25cf9ea'}, {'path': \"m/44'/0'/0'/0/6\", 'address': '14gzH2gjZifDpiNxJ8ADdDKkER7yXmBtZE', 'privkey': 'KwgshnjMMiVhP3PHdJShqcVghXsBV1pHbcfm1174BMomupByCMWQ', 'pubkey': '03ca256003055d8e39dba47a381d2422a449cac8abc0249663640f69d1a1e0d1ca'}, {'path': \"m/44'/0'/0'/0/7\", 'address': '1MzA77JHPf9Vr1Su2QdjgGR2vqt5h6koXx', 'privkey': 'L1MWPxAuEBpb7ch1tLUZvoa1YRZTj8c4ySzjZFCDnGt9t8FuSMCG', 'pubkey': '028cff3021780bdb38a30c161deb21cf20980f2163507dade7edfb2a4e84e39d73'}]\n"
     ]
    }
   ],
   "source": [
    "accounts=json.loads(output)\n",
    "print(accounts)"
   ]
  },
  {
   "cell_type": "code",
   "execution_count": 9,
   "metadata": {},
   "outputs": [
    {
     "data": {
      "text/plain": [
       "list"
      ]
     },
     "execution_count": 9,
     "metadata": {},
     "output_type": "execute_result"
    }
   ],
   "source": [
    "type(accounts)"
   ]
  },
  {
   "cell_type": "code",
   "execution_count": null,
   "metadata": {},
   "outputs": [],
   "source": []
  }
 ],
 "metadata": {
  "kernelspec": {
   "display_name": "Python 3",
   "language": "python",
   "name": "python3"
  },
  "language_info": {
   "codemirror_mode": {
    "name": "ipython",
    "version": 3
   },
   "file_extension": ".py",
   "mimetype": "text/x-python",
   "name": "python",
   "nbconvert_exporter": "python",
   "pygments_lexer": "ipython3",
   "version": "3.7.3"
  }
 },
 "nbformat": 4,
 "nbformat_minor": 4
}
